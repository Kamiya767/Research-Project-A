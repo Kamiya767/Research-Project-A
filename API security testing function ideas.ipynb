{
 "cells": [
  {
   "cell_type": "code",
   "execution_count": 2,
   "id": "0f425f82",
   "metadata": {},
   "outputs": [
    {
     "name": "stdout",
     "output_type": "stream",
     "text": [
      "Accessing target http://127.0.0.1:5000/\n",
      "Traditional Spidering target http://127.0.0.1:5000/\n",
      "Spider completed\n",
      "Scanning target http://127.0.0.1:5000/\n",
      "Ascan progress %: 93\n",
      "Ascan completed\n",
      "Hosts: 127.0.0.1\n",
      "Alerts: \n",
      "Missing Anti-clickjacking Header: Medium at http://127.0.0.1:5000/\n",
      "Content Security Policy (CSP) Header Not Set: Medium at http://127.0.0.1:5000/\n",
      "Server Leaks Version Information via \"Server\" HTTP Response Header Field: Low at http://127.0.0.1:5000/\n",
      "X-Content-Type-Options Header Missing: Low at http://127.0.0.1:5000/\n",
      "Content Security Policy (CSP) Header Not Set: Medium at http://127.0.0.1:5000/robots.txt\n",
      "Content Security Policy (CSP) Header Not Set: Medium at http://127.0.0.1:5000/sitemap.xml\n",
      "Content Security Policy (CSP) Header Not Set: Medium at http://127.0.0.1:5000/api\n",
      "Missing Anti-clickjacking Header: Medium at http://127.0.0.1:5000/spam\n",
      "Missing Anti-clickjacking Header: Medium at http://127.0.0.1:5000/urls\n",
      "Server Leaks Version Information via \"Server\" HTTP Response Header Field: Low at http://127.0.0.1:5000/api\n",
      "Server Leaks Version Information via \"Server\" HTTP Response Header Field: Low at http://127.0.0.1:5000/sitemap.xml\n",
      "Server Leaks Version Information via \"Server\" HTTP Response Header Field: Low at http://127.0.0.1:5000/robots.txt\n",
      "Content Security Policy (CSP) Header Not Set: Medium at http://127.0.0.1:5000/urls\n",
      "Content Security Policy (CSP) Header Not Set: Medium at http://127.0.0.1:5000/spam\n",
      "Absence of Anti-CSRF Tokens: Medium at http://127.0.0.1:5000/spam\n",
      "Absence of Anti-CSRF Tokens: Medium at http://127.0.0.1:5000/urls\n",
      "Server Leaks Version Information via \"Server\" HTTP Response Header Field: Low at http://127.0.0.1:5000/spam\n",
      "Server Leaks Version Information via \"Server\" HTTP Response Header Field: Low at http://127.0.0.1:5000/urls\n",
      "X-Content-Type-Options Header Missing: Low at http://127.0.0.1:5000/spam\n",
      "X-Content-Type-Options Header Missing: Low at http://127.0.0.1:5000/urls\n",
      "Missing Anti-clickjacking Header: Medium at http://127.0.0.1:5000/urls\n",
      "Missing Anti-clickjacking Header: Medium at http://127.0.0.1:5000/spam\n",
      "Content Security Policy (CSP) Header Not Set: Medium at http://127.0.0.1:5000/urls\n",
      "Content Security Policy (CSP) Header Not Set: Medium at http://127.0.0.1:5000/spam\n",
      "Absence of Anti-CSRF Tokens: Medium at http://127.0.0.1:5000/urls\n",
      "Absence of Anti-CSRF Tokens: Medium at http://127.0.0.1:5000/spam\n",
      "Server Leaks Version Information via \"Server\" HTTP Response Header Field: Low at http://127.0.0.1:5000/urls\n",
      "Server Leaks Version Information via \"Server\" HTTP Response Header Field: Low at http://127.0.0.1:5000/spam\n",
      "X-Content-Type-Options Header Missing: Low at http://127.0.0.1:5000/spam\n",
      "X-Content-Type-Options Header Missing: Low at http://127.0.0.1:5000/urls\n",
      "GET for POST: Informational at http://127.0.0.1:5000/urls\n",
      "GET for POST: Informational at http://127.0.0.1:5000/spam\n"
     ]
    },
    {
     "data": {
      "text/plain": [
       "'OK'"
      ]
     },
     "execution_count": 2,
     "metadata": {},
     "output_type": "execute_result"
    }
   ],
   "source": [
    "import time\n",
    "from zapv2 import ZAPv2\n",
    "\n",
    "\n",
    "target_url = 'http://127.0.0.1:5000/'  \n",
    "zap_proxy = 'http://localhost:8080'  \n",
    "\n",
    "\n",
    "zap = ZAPv2(proxies={'http': zap_proxy, 'https': zap_proxy})\n",
    "\n",
    "\n",
    "print(f'Accessing target {target_url}')\n",
    "zap.urlopen(target_url)\n",
    "time.sleep(2)  \n",
    "\n",
    "\n",
    "print(f'Traditional Spidering target {target_url}')\n",
    "zap.spider.scan(target_url)\n",
    "while int(zap.spider.status()) < 100:\n",
    "    print(f'Spider progress %: {zap.spider.status()}')\n",
    "    time.sleep(5)\n",
    "print('Spider completed')\n",
    "\n",
    "\n",
    "print(f'Scanning target {target_url}')\n",
    "zap.ascan.scan(target_url)\n",
    "while int(zap.ascan.status()) < 100:\n",
    "    print(f'Ascan progress %: {zap.ascan.status()}')\n",
    "    time.sleep(5)\n",
    "print('Ascan completed')\n",
    "\n",
    "\n",
    "print('Hosts: ' + ', '.join(zap.core.hosts))\n",
    "print('Alerts: ')\n",
    "alerts = zap.core.alerts()\n",
    "for alert in alerts:\n",
    "    print(f\"{alert['alert']}: {alert['risk']} at {alert['url']}\")\n",
    "\n",
    "\n",
    "with open('report.html', 'w') as html_report:\n",
    "    html_report.write(zap.core.htmlreport())\n",
    "\n",
    "with open('report.xml', 'w') as xml_report:\n",
    "    xml_report.write(zap.core.xmlreport())\n",
    "\n",
    "\n",
    "zap.core.shutdown()\n"
   ]
  },
  {
   "cell_type": "code",
   "execution_count": null,
   "id": "a2eec0a9",
   "metadata": {},
   "outputs": [],
   "source": []
  }
 ],
 "metadata": {
  "kernelspec": {
   "display_name": "Python 3 (ipykernel)",
   "language": "python",
   "name": "python3"
  },
  "language_info": {
   "codemirror_mode": {
    "name": "ipython",
    "version": 3
   },
   "file_extension": ".py",
   "mimetype": "text/x-python",
   "name": "python",
   "nbconvert_exporter": "python",
   "pygments_lexer": "ipython3",
   "version": "3.9.13"
  }
 },
 "nbformat": 4,
 "nbformat_minor": 5
}
