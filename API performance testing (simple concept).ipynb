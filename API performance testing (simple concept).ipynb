{
 "cells": [
  {
   "cell_type": "code",
   "execution_count": 1,
   "id": "e3f74451",
   "metadata": {},
   "outputs": [
    {
     "name": "stdout",
     "output_type": "stream",
     "text": [
      "Average Response Time: 0.004 seconds\n",
      "Minimum Response Time: 0.000 seconds\n",
      "Maximum Response Time: 0.017 seconds\n"
     ]
    }
   ],
   "source": [
    "import requests\n",
    "import time\n",
    "\n",
    "def test_api_performance(url, num_requests=100):\n",
    "    response_times = []\n",
    "    errors = 0\n",
    "\n",
    "    for _ in range(num_requests):\n",
    "        try:\n",
    "            start_time = time.time()\n",
    "            response = requests.get(url)\n",
    "            response.raise_for_status()  \n",
    "            elapsed_time = time.time() - start_time\n",
    "            response_times.append(elapsed_time)\n",
    "        except requests.RequestException as e:\n",
    "            print(f\"Request failed: {e}\")\n",
    "            errors += 1\n",
    "\n",
    "    if response_times:\n",
    "        average_time = sum(response_times) / len(response_times)\n",
    "        print(f\"Average Response Time: {average_time:.3f} seconds\")\n",
    "        print(f\"Minimum Response Time: {min(response_times):.3f} seconds\")\n",
    "        print(f\"Maximum Response Time: {max(response_times):.3f} seconds\")\n",
    "    if errors:\n",
    "        print(f\"Number of failed requests: {errors}\")\n",
    "\n",
    "\n",
    "api_url = \"http://127.0.0.1:5000/\"\n",
    "test_api_performance(api_url)\n"
   ]
  },
  {
   "cell_type": "code",
   "execution_count": null,
   "id": "d37e8a2e",
   "metadata": {},
   "outputs": [],
   "source": []
  }
 ],
 "metadata": {
  "kernelspec": {
   "display_name": "Python 3 (ipykernel)",
   "language": "python",
   "name": "python3"
  },
  "language_info": {
   "codemirror_mode": {
    "name": "ipython",
    "version": 3
   },
   "file_extension": ".py",
   "mimetype": "text/x-python",
   "name": "python",
   "nbconvert_exporter": "python",
   "pygments_lexer": "ipython3",
   "version": "3.9.13"
  }
 },
 "nbformat": 4,
 "nbformat_minor": 5
}
